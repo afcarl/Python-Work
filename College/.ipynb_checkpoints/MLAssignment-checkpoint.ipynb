{
 "cells": [
  {
   "cell_type": "code",
   "execution_count": 3,
   "metadata": {
    "collapsed": true
   },
   "outputs": [],
   "source": [
    "%matplotlib inline"
   ]
  },
  {
   "cell_type": "code",
   "execution_count": 4,
   "metadata": {
    "collapsed": true
   },
   "outputs": [],
   "source": [
    "import numpy as np\n",
    "import sklearn.svm as svm\n",
    "import seaborn as sns\n",
    "sns.set_style(\"whitegrid\")\n",
    "\n",
    "from sklearn import cross_validation as cv\n",
    "from sklearn.datasets import load_iris\n",
    "from sklearn.learning_curve import validation_curve, learning_curve"
   ]
  },
  {
   "cell_type": "code",
   "execution_count": 6,
   "metadata": {
    "collapsed": true
   },
   "outputs": [],
   "source": [
    "def plotValidationCurve(estimator, title, X, y, param_name, param_range, cv=5):\n",
    "    trainScores, testScores = validation_curve(estimator, X, y, param_name=param_name, param_range=param_range, cv=cv, scoring=\"accuracy\", )\n",
    "\n",
    "    trainScoresMean = np.mean(trainScores, axis=1)\n",
    "    trainScoresStd = np.std(trainScores, axis=1)\n",
    "    testScoresMean = np.mean(testScores, axis=1)\n",
    "    testScoresStd = np.std(testScores, axis=1)\n",
    "\n",
    "    sns.plt.title(title)\n",
    "    sns.plt.xlabel(param_name)\n",
    "    sns.plt.ylabel(\"Accuracy Score\")\n",
    "    sns.plt.ylim(0.0, 1.1)\n",
    "    sns.plt.semilogx(param_range, trainScoresMean, label=\"Training score\", color=\"r\")\n",
    "    sns.plt.fill_between(param_range, trainScoresMean - trainScoresStd, trainScoresMean + trainScoresStd, alpha=0.2, color=\"r\")\n",
    "    sns.plt.semilogx(param_range, testScoresMean, label=\"Cross-validation score\",color=\"b\")\n",
    "    sns.plt.fill_between(param_range, testScoresMean - testScoresStd, testScoresMean + testScoresStd, alpha=0.2, color=\"b\")\n",
    "\n",
    "    sns.plt.legend(loc=\"best\")\n",
    "    return sns.plt"
   ]
  },
  {
   "cell_type": "code",
   "execution_count": 7,
   "metadata": {
    "collapsed": true
   },
   "outputs": [],
   "source": [
    "def plotLearningCurve(estimator, title, X, y, ylim=None, cv=None, n_jobs=1, train_sizes=np.linspace(.1, 1.0, 5)):\n",
    "    sns.plt.figure()\n",
    "    sns.plt.title(title)\n",
    "    if ylim is not None:\n",
    "        sns.plt.ylim(*ylim)\n",
    "    sns.plt.xlabel(\"Training examples\")\n",
    "    sns.plt.ylabel(\"Score\")\n",
    "    train_sizes, train_scores, test_scores = learning_curve(\n",
    "        estimator, X, y, cv=cv, n_jobs=n_jobs, train_sizes=train_sizes)\n",
    "    train_scores_mean = np.mean(train_scores, axis=1)\n",
    "    train_scores_std = np.std(train_scores, axis=1)\n",
    "    test_scores_mean = np.mean(test_scores, axis=1)\n",
    "    test_scores_std = np.std(test_scores, axis=1)\n",
    "\n",
    "    sns.plt.fill_between(train_sizes, train_scores_mean - train_scores_std, train_scores_mean + train_scores_std,\n",
    "                         alpha=0.1, color=\"r\")\n",
    "    sns.plt.fill_between(train_sizes, test_scores_mean - test_scores_std,\n",
    "                     test_scores_mean + test_scores_std, alpha=0.1, color=\"g\")\n",
    "    sns.plt.plot(train_sizes, train_scores_mean, 'o-', color=\"r\",\n",
    "             label=\"Training score\")\n",
    "    sns.plt.plot(train_sizes, test_scores_mean, 'o-', color=\"g\",\n",
    "             label=\"Cross-validation score\")\n",
    "\n",
    "    sns.plt.legend(loc=\"best\")\n",
    "    return sns.plt\n"
   ]
  },
  {
   "cell_type": "code",
   "execution_count": null,
   "metadata": {
    "collapsed": true
   },
   "outputs": [],
   "source": []
  }
 ],
 "metadata": {
  "kernelspec": {
   "display_name": "Python 3",
   "language": "python",
   "name": "python3"
  },
  "language_info": {
   "codemirror_mode": {
    "name": "ipython",
    "version": 3
   },
   "file_extension": ".py",
   "mimetype": "text/x-python",
   "name": "python",
   "nbconvert_exporter": "python",
   "pygments_lexer": "ipython3",
   "version": "3.4.4"
  }
 },
 "nbformat": 4,
 "nbformat_minor": 0
}
